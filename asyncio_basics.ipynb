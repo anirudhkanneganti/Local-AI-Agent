{
 "cells": [
  {
   "cell_type": "markdown",
   "id": "fbceba53",
   "metadata": {
    "vscode": {
     "languageId": "plaintext"
    }
   },
   "source": [
    "## Basics of \"asyncio\""
   ]
  },
  {
   "cell_type": "code",
   "execution_count": 10,
   "id": "52c4ce85",
   "metadata": {},
   "outputs": [
    {
     "name": "stdout",
     "output_type": "stream",
     "text": [
      "c:\\Users\\neelu\\Local-AI-Agent\n"
     ]
    }
   ],
   "source": [
    "# Get the current working directory\n",
    "# and print it to the console\n",
    "!cd"
   ]
  },
  {
   "cell_type": "code",
   "execution_count": 11,
   "id": "4bcddbb0",
   "metadata": {},
   "outputs": [
    {
     "name": "stdout",
     "output_type": "stream",
     "text": [
      "this is a test\n",
      "this is a test 2\n",
      "this is a test 3\n"
     ]
    }
   ],
   "source": [
    "import asyncio\n",
    "\n",
    "async def fn():\n",
    "    print('this is a test')\n",
    "    await asyncio.sleep(1)\n",
    "    print('this is a test 2')\n",
    "    await asyncio.sleep(1)\n",
    "    print('this is a test 3')\n",
    "\n",
    "await fn()"
   ]
  },
  {
   "cell_type": "code",
   "execution_count": null,
   "id": "2b75e69e",
   "metadata": {},
   "outputs": [
    {
     "data": {
      "text/plain": [
       "True"
      ]
     },
     "execution_count": 12,
     "metadata": {},
     "output_type": "execute_result"
    }
   ],
   "source": [
    "# To checck if the event loop is running\n",
    "asyncio.get_running_loop().is_running()"
   ]
  },
  {
   "cell_type": "code",
   "execution_count": 13,
   "id": "68362305",
   "metadata": {},
   "outputs": [
    {
     "name": "stdout",
     "output_type": "stream",
     "text": [
      "Function 1 started..\n",
      "Function 2 started..\n",
      "Function 3 started..\n",
      "Function 3 Ended\n",
      "Function 1 Ended\n",
      "Function 2 Ended\n",
      "Main Ended..\n"
     ]
    }
   ],
   "source": [
    "async def func1():\n",
    "    print(\"Function 1 started..\")\n",
    "    await asyncio.sleep(2)\n",
    "    print(\"Function 1 Ended\")\n",
    " \n",
    " \n",
    "async def func2():\n",
    "    print(\"Function 2 started..\")\n",
    "    await asyncio.sleep(3)\n",
    "    print(\"Function 2 Ended\")\n",
    " \n",
    " \n",
    "async def func3():\n",
    "    print(\"Function 3 started..\")\n",
    "    await asyncio.sleep(1)\n",
    "    print(\"Function 3 Ended\")\n",
    " \n",
    " \n",
    "async def main():\n",
    "    L = await asyncio.gather(\n",
    "        func1(),\n",
    "        func2(),\n",
    "        func3(),\n",
    "    )\n",
    "    print(\"Main Ended..\")\n",
    " \n",
    " \n",
    "await main()"
   ]
  }
 ],
 "metadata": {
  "kernelspec": {
   "display_name": "myenv",
   "language": "python",
   "name": "python3"
  },
  "language_info": {
   "codemirror_mode": {
    "name": "ipython",
    "version": 3
   },
   "file_extension": ".py",
   "mimetype": "text/x-python",
   "name": "python",
   "nbconvert_exporter": "python",
   "pygments_lexer": "ipython3",
   "version": "3.13.2"
  }
 },
 "nbformat": 4,
 "nbformat_minor": 5
}
